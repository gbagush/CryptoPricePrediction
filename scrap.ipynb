{
 "cells": [
  {
   "cell_type": "markdown",
   "metadata": {},
   "source": [
    "<center><h2><b>Data Scrapper</b></h2></center>"
   ]
  },
  {
   "cell_type": "markdown",
   "metadata": {},
   "source": [
    "## Scrap Data"
   ]
  },
  {
   "cell_type": "code",
   "execution_count": 9,
   "metadata": {},
   "outputs": [
    {
     "name": "stderr",
     "output_type": "stream",
     "text": [
      "[*********************100%***********************]  1 of 1 completed"
     ]
    },
    {
     "name": "stdout",
     "output_type": "stream",
     "text": [
      "Data successfully saved\n"
     ]
    },
    {
     "name": "stderr",
     "output_type": "stream",
     "text": [
      "\n"
     ]
    }
   ],
   "source": [
    "import yfinance as yf\n",
    "\n",
    "ticker = \"BTC-USD\"\n",
    "period = \"1mo\"\n",
    "start = \"2023-11-14\"\n",
    "end = \"2024-11-15\" # add 1 day\n",
    "type=\"range\" # \"period\" or \"range\"\n",
    "\n",
    "data = None\n",
    "\n",
    "if type == \"period\":\n",
    "    data = yf.download(ticker, period=period)\n",
    "elif type == \"range\":\n",
    "    data = yf.download(ticker, start=start, end=end)\n",
    "else:\n",
    "    print(\"Invalid type. Please use 'period' or 'range'\")\n",
    "    exit()\n",
    "\n",
    "data.reset_index(inplace=True)\n",
    "\n",
    "data.to_csv(\"data/raw_data.csv\", index=False, header=True)\n",
    "print(f\"Data successfully saved\")"
   ]
  },
  {
   "cell_type": "markdown",
   "metadata": {},
   "source": [
    "## Clean CSV Data"
   ]
  },
  {
   "cell_type": "code",
   "execution_count": 10,
   "metadata": {},
   "outputs": [
    {
     "name": "stdout",
     "output_type": "stream",
     "text": [
      "Successfully clean data and saved to: data/BTC-USD_2023-11-14_2024-11-15_2024-12-15.csv.csv\n"
     ]
    }
   ],
   "source": [
    "import pandas as pd\n",
    "\n",
    "df = pd.read_csv('data/raw_data.csv', skiprows=[1])\n",
    "\n",
    "filename = None\n",
    "if type == \"period\":\n",
    "    filename = f\"data/{ticker}_{period}_{pd.Timestamp.today().strftime('%Y-%m-%d')}.csv\"\n",
    "elif type == \"range\":\n",
    "    filename = f\"data/{ticker}_{start}_{end}_{pd.Timestamp.today().strftime('%Y-%m-%d')}.csv\"\n",
    "else:\n",
    "    print(\"Invalid type. Please use 'period' or 'range'\")\n",
    "    exit()\n",
    "\n",
    "df.to_csv(filename, index=False)\n",
    "print(f\"Successfully clean data and saved to: {f\"{filename}.csv\"}\")"
   ]
  }
 ],
 "metadata": {
  "kernelspec": {
   "display_name": "Python 3",
   "language": "python",
   "name": "python3"
  },
  "language_info": {
   "codemirror_mode": {
    "name": "ipython",
    "version": 3
   },
   "file_extension": ".py",
   "mimetype": "text/x-python",
   "name": "python",
   "nbconvert_exporter": "python",
   "pygments_lexer": "ipython3",
   "version": "3.12.4"
  }
 },
 "nbformat": 4,
 "nbformat_minor": 2
}
